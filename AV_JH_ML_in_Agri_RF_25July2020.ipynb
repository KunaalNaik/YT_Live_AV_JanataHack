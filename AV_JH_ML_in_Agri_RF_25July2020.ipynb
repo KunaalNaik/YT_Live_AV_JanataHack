{
 "cells": [
  {
   "cell_type": "code",
   "execution_count": 9,
   "metadata": {},
   "outputs": [],
   "source": [
    "import pandas as pd\n",
    "\n",
    "#Config for Displaying Pipeline\n",
    "from sklearn import set_config\n",
    "set_config(display='diagram')\n",
    "\n",
    "# Make and Compose Pipeline\n",
    "from sklearn.pipeline import make_pipeline\n",
    "from sklearn.compose import make_column_transformer\n",
    "\n",
    "# Preprocessing \n",
    "from sklearn.preprocessing import OneHotEncoder, KBinsDiscretizer, MinMaxScaler\n",
    "from sklearn.impute import SimpleImputer\n",
    "\n",
    "#Model\n",
    "from sklearn.ensemble import RandomForestClassifier\n",
    "from sklearn.tree import DecisionTreeClassifier\n",
    "\n",
    "#GridSearch\n",
    "from sklearn.model_selection import GridSearchCV"
   ]
  },
  {
   "cell_type": "code",
   "execution_count": 2,
   "metadata": {},
   "outputs": [],
   "source": [
    "train = pd.read_csv('train_yaOffsB.csv')\n",
    "test = pd.read_csv('test_pFkWwen.csv')"
   ]
  },
  {
   "cell_type": "markdown",
   "metadata": {},
   "source": [
    "### Divide Categorical and Numerical Features"
   ]
  },
  {
   "cell_type": "code",
   "execution_count": 3,
   "metadata": {},
   "outputs": [],
   "source": [
    "train['Crop_Type'] = train['Crop_Type'].astype('object')\n",
    "train['Soil_Type'] = train['Soil_Type'].astype('object')\n",
    "train['Pesticide_Use_Category'] = train['Pesticide_Use_Category'].astype('object')\n",
    "train['Season'] = train['Season'].astype('object')\n",
    "\n",
    "test['Crop_Type'] = test['Crop_Type'].astype('object')\n",
    "test['Soil_Type'] = test['Soil_Type'].astype('object')\n",
    "test['Pesticide_Use_Category'] = test['Pesticide_Use_Category'].astype('object')\n",
    "test['Season'] = test['Season'].astype('object')"
   ]
  },
  {
   "cell_type": "code",
   "execution_count": 4,
   "metadata": {},
   "outputs": [],
   "source": [
    "#create X and y datasets for splitting \n",
    "X = train.drop(['ID','Crop_Damage'], axis=1)\n",
    "y = train['Crop_Damage']"
   ]
  },
  {
   "cell_type": "code",
   "execution_count": 5,
   "metadata": {},
   "outputs": [],
   "source": [
    "numerical_features = [c for c, dtype in zip(X.columns, X.dtypes)\n",
    "                     if dtype.kind in ['i','f'] and c !='ID']\n",
    "categorical_features = [c for c, dtype in zip(X.columns, X.dtypes)\n",
    "                     if dtype.kind not in ['i','f']]"
   ]
  },
  {
   "cell_type": "code",
   "execution_count": 6,
   "metadata": {},
   "outputs": [
    {
     "name": "stdout",
     "output_type": "stream",
     "text": [
      "Numerical : ['Estimated_Insects_Count', 'Number_Doses_Week', 'Number_Weeks_Used', 'Number_Weeks_Quit']\n",
      "Categorical : ['Crop_Type', 'Soil_Type', 'Pesticide_Use_Category', 'Season']\n"
     ]
    }
   ],
   "source": [
    "print('Numerical : ' + str(numerical_features))\n",
    "print('Categorical : ' + str(categorical_features))"
   ]
  },
  {
   "cell_type": "markdown",
   "metadata": {},
   "source": [
    "### Divide Data into Train and Validation"
   ]
  },
  {
   "cell_type": "code",
   "execution_count": 7,
   "metadata": {},
   "outputs": [],
   "source": [
    "#import train_test_split library\n",
    "from sklearn.model_selection import train_test_split\n",
    "\n",
    "# create train test split\n",
    "X_train, X_test, y_train, y_test = train_test_split( X,  y, test_size=0.3, random_state=0, stratify = y)  "
   ]
  },
  {
   "cell_type": "markdown",
   "metadata": {},
   "source": [
    "### Make Pipeline with Column Transformer"
   ]
  },
  {
   "cell_type": "code",
   "execution_count": 10,
   "metadata": {},
   "outputs": [],
   "source": [
    "preprocessor = make_column_transformer(\n",
    "    \n",
    "    (make_pipeline(\n",
    "    SimpleImputer(strategy = 'median'),\n",
    "         MinMaxScaler(),\n",
    "    KBinsDiscretizer(n_bins=5)), numerical_features),\n",
    "    \n",
    "    (make_pipeline(\n",
    "    SimpleImputer(strategy = 'constant', fill_value = 'missing'),\n",
    "    OneHotEncoder(categories = 'auto', handle_unknown = 'ignore')), categorical_features),\n",
    ")"
   ]
  },
  {
   "cell_type": "markdown",
   "metadata": {},
   "source": [
    "### Make Pipeline for Building Random Forest Model"
   ]
  },
  {
   "cell_type": "code",
   "execution_count": 11,
   "metadata": {},
   "outputs": [],
   "source": [
    "grid_param = [                \n",
    "                {\"randomforestclassifier__n_estimators\": [100,150,200,300,500],\n",
    "                 \"randomforestclassifier__max_depth\":[5,10,15],\n",
    "                 \"randomforestclassifier__min_samples_leaf\":[1,2,5,10],\n",
    "                 \"randomforestclassifier__max_leaf_nodes\": [2, 5,10]}]"
   ]
  },
  {
   "cell_type": "code",
   "execution_count": 12,
   "metadata": {},
   "outputs": [],
   "source": [
    "RF_Model = make_pipeline(preprocessor, RandomForestClassifier(n_jobs = -1))"
   ]
  },
  {
   "cell_type": "code",
   "execution_count": 13,
   "metadata": {},
   "outputs": [],
   "source": [
    "gridsearch = GridSearchCV(RF_Model, grid_param, cv=3, verbose=0,n_jobs=-1) # Fit grid search"
   ]
  },
  {
   "cell_type": "code",
   "execution_count": 14,
   "metadata": {},
   "outputs": [
    {
     "name": "stderr",
     "output_type": "stream",
     "text": [
      "C:\\Users\\DELL\\Anaconda3\\lib\\site-packages\\sklearn\\preprocessing\\_discretization.py:202: UserWarning: Bins whose width are too small (i.e., <= 1e-8) in feature 3 are removed. Consider decreasing the number of bins.\n",
      "  'decreasing the number of bins.' % jj)\n"
     ]
    },
    {
     "data": {
      "text/html": [
       "<style>div.sk-top-container {color: black;background-color: white;}div.sk-toggleable {background-color: white;}label.sk-toggleable__label {cursor: pointer;display: block;width: 100%;margin-bottom: 0;padding: 0.2em 0.3em;box-sizing: border-box;text-align: center;}div.sk-toggleable__content {max-height: 0;max-width: 0;overflow: hidden;text-align: left;background-color: #f0f8ff;}div.sk-toggleable__content pre {margin: 0.2em;color: black;border-radius: 0.25em;background-color: #f0f8ff;}input.sk-toggleable__control:checked~div.sk-toggleable__content {max-height: 200px;max-width: 100%;overflow: auto;}div.sk-estimator input.sk-toggleable__control:checked~label.sk-toggleable__label {background-color: #d4ebff;}div.sk-label input.sk-toggleable__control:checked~label.sk-toggleable__label {background-color: #d4ebff;}input.sk-hidden--visually {border: 0;clip: rect(1px 1px 1px 1px);clip: rect(1px, 1px, 1px, 1px);height: 1px;margin: -1px;overflow: hidden;padding: 0;position: absolute;width: 1px;}div.sk-estimator {font-family: monospace;background-color: #f0f8ff;margin: 0.25em 0.25em;border: 1px dotted black;border-radius: 0.25em;box-sizing: border-box;}div.sk-estimator:hover {background-color: #d4ebff;}div.sk-parallel-item::after {content: \"\";width: 100%;border-bottom: 1px solid gray;flex-grow: 1;}div.sk-label:hover label.sk-toggleable__label {background-color: #d4ebff;}div.sk-serial::before {content: \"\";position: absolute;border-left: 1px solid gray;box-sizing: border-box;top: 2em;bottom: 0;left: 50%;}div.sk-serial {display: flex;flex-direction: column;align-items: center;background-color: white;}div.sk-item {z-index: 1;}div.sk-parallel {display: flex;align-items: stretch;justify-content: center;background-color: white;}div.sk-parallel-item {display: flex;flex-direction: column;position: relative;background-color: white;}div.sk-parallel-item:first-child::after {align-self: flex-end;width: 50%;}div.sk-parallel-item:last-child::after {align-self: flex-start;width: 50%;}div.sk-parallel-item:only-child::after {width: 0;}div.sk-dashed-wrapped {border: 1px dashed gray;margin: 0.2em;box-sizing: border-box;padding-bottom: 0.1em;background-color: white;position: relative;}div.sk-label label {font-family: monospace;font-weight: bold;background-color: white;display: inline-block;line-height: 1.2em;}div.sk-label-container {position: relative;z-index: 2;text-align: center;}div.sk-container {display: inline-block;position: relative;}</style><div class=\"sk-top-container\"><div class=\"sk-container\"><div class=\"sk-item sk-dashed-wrapped\"><div class=\"sk-label-container\"><div class=\"sk-label sk-toggleable\"><input class=\"sk-toggleable__control sk-hidden--visually\" id=\"da3a0838-3ee3-42a5-a816-94ed13bc526a\" type=\"checkbox\" ><label class=\"sk-toggleable__label\" for=\"da3a0838-3ee3-42a5-a816-94ed13bc526a\">GridSearchCV</label><div class=\"sk-toggleable__content\"><pre>GridSearchCV(cv=3,\n",
       "             estimator=Pipeline(steps=[('columntransformer',\n",
       "                                        ColumnTransformer(transformers=[('pipeline-1',\n",
       "                                                                         Pipeline(steps=[('simpleimputer',\n",
       "                                                                                          SimpleImputer(strategy='median')),\n",
       "                                                                                         ('minmaxscaler',\n",
       "                                                                                          MinMaxScaler()),\n",
       "                                                                                         ('kbinsdiscretizer',\n",
       "                                                                                          KBinsDiscretizer())]),\n",
       "                                                                         ['Estimated_Insects_Count',\n",
       "                                                                          'Number_Doses_Week',\n",
       "                                                                          'Number_Weeks_Used',\n",
       "                                                                          'Number_Weeks_Quit']),\n",
       "                                                                        ('pipelin...\n",
       "                                                                          'Soil_Type',\n",
       "                                                                          'Pesticide_Use_Category',\n",
       "                                                                          'Season'])])),\n",
       "                                       ('randomforestclassifier',\n",
       "                                        RandomForestClassifier(n_jobs=-1))]),\n",
       "             n_jobs=-1,\n",
       "             param_grid=[{'randomforestclassifier__max_depth': [5, 10, 15],\n",
       "                          'randomforestclassifier__max_leaf_nodes': [2, 5, 10],\n",
       "                          'randomforestclassifier__min_samples_leaf': [1, 2, 5,\n",
       "                                                                       10],\n",
       "                          'randomforestclassifier__n_estimators': [100, 150,\n",
       "                                                                   200, 300,\n",
       "                                                                   500]}])</pre></div></div></div><div class=\"sk-parallel\"><div class=\"sk-parallel-item\"><div class=\"sk-item\"><div class=\"sk-serial\"><div class=\"sk-item\"><div class=\"sk-serial\"><div class=\"sk-item sk-dashed-wrapped\"><div class=\"sk-label-container\"><div class=\"sk-label sk-toggleable\"><input class=\"sk-toggleable__control sk-hidden--visually\" id=\"f2ba393e-9168-4c75-b9db-cf1e28bd9555\" type=\"checkbox\" ><label class=\"sk-toggleable__label\" for=\"f2ba393e-9168-4c75-b9db-cf1e28bd9555\">columntransformer: ColumnTransformer</label><div class=\"sk-toggleable__content\"><pre>ColumnTransformer(transformers=[('pipeline-1',\n",
       "                                 Pipeline(steps=[('simpleimputer',\n",
       "                                                  SimpleImputer(strategy='median')),\n",
       "                                                 ('minmaxscaler',\n",
       "                                                  MinMaxScaler()),\n",
       "                                                 ('kbinsdiscretizer',\n",
       "                                                  KBinsDiscretizer())]),\n",
       "                                 ['Estimated_Insects_Count',\n",
       "                                  'Number_Doses_Week', 'Number_Weeks_Used',\n",
       "                                  'Number_Weeks_Quit']),\n",
       "                                ('pipeline-2',\n",
       "                                 Pipeline(steps=[('simpleimputer',\n",
       "                                                  SimpleImputer(fill_value='missing',\n",
       "                                                                strategy='constant')),\n",
       "                                                 ('onehotencoder',\n",
       "                                                  OneHotEncoder(handle_unknown='ignore'))]),\n",
       "                                 ['Crop_Type', 'Soil_Type',\n",
       "                                  'Pesticide_Use_Category', 'Season'])])</pre></div></div></div><div class=\"sk-parallel\"><div class=\"sk-parallel-item\"><div class=\"sk-item\"><div class=\"sk-label-container\"><div class=\"sk-label sk-toggleable\"><input class=\"sk-toggleable__control sk-hidden--visually\" id=\"99d8d2df-1ca5-451d-b5a4-a69c5b906f31\" type=\"checkbox\" ><label class=\"sk-toggleable__label\" for=\"99d8d2df-1ca5-451d-b5a4-a69c5b906f31\">pipeline-1</label><div class=\"sk-toggleable__content\"><pre>['Estimated_Insects_Count', 'Number_Doses_Week', 'Number_Weeks_Used', 'Number_Weeks_Quit']</pre></div></div></div><div class=\"sk-serial\"><div class=\"sk-item\"><div class=\"sk-serial\"><div class=\"sk-item\"><div class=\"sk-estimator sk-toggleable\"><input class=\"sk-toggleable__control sk-hidden--visually\" id=\"506daf7f-2fba-423f-9c4e-44262bff3222\" type=\"checkbox\" ><label class=\"sk-toggleable__label\" for=\"506daf7f-2fba-423f-9c4e-44262bff3222\">SimpleImputer</label><div class=\"sk-toggleable__content\"><pre>SimpleImputer(strategy='median')</pre></div></div></div><div class=\"sk-item\"><div class=\"sk-estimator sk-toggleable\"><input class=\"sk-toggleable__control sk-hidden--visually\" id=\"2de09701-8066-434d-a90a-e249ccf80509\" type=\"checkbox\" ><label class=\"sk-toggleable__label\" for=\"2de09701-8066-434d-a90a-e249ccf80509\">MinMaxScaler</label><div class=\"sk-toggleable__content\"><pre>MinMaxScaler()</pre></div></div></div><div class=\"sk-item\"><div class=\"sk-estimator sk-toggleable\"><input class=\"sk-toggleable__control sk-hidden--visually\" id=\"ad5cd996-b474-4c5a-b7dc-d419cafe96cf\" type=\"checkbox\" ><label class=\"sk-toggleable__label\" for=\"ad5cd996-b474-4c5a-b7dc-d419cafe96cf\">KBinsDiscretizer</label><div class=\"sk-toggleable__content\"><pre>KBinsDiscretizer()</pre></div></div></div></div></div></div></div></div><div class=\"sk-parallel-item\"><div class=\"sk-item\"><div class=\"sk-label-container\"><div class=\"sk-label sk-toggleable\"><input class=\"sk-toggleable__control sk-hidden--visually\" id=\"5936ba76-eb35-4f7a-8ae9-40e138e6c385\" type=\"checkbox\" ><label class=\"sk-toggleable__label\" for=\"5936ba76-eb35-4f7a-8ae9-40e138e6c385\">pipeline-2</label><div class=\"sk-toggleable__content\"><pre>['Crop_Type', 'Soil_Type', 'Pesticide_Use_Category', 'Season']</pre></div></div></div><div class=\"sk-serial\"><div class=\"sk-item\"><div class=\"sk-serial\"><div class=\"sk-item\"><div class=\"sk-estimator sk-toggleable\"><input class=\"sk-toggleable__control sk-hidden--visually\" id=\"32f62008-0663-4bf5-a7fc-f7a07206629c\" type=\"checkbox\" ><label class=\"sk-toggleable__label\" for=\"32f62008-0663-4bf5-a7fc-f7a07206629c\">SimpleImputer</label><div class=\"sk-toggleable__content\"><pre>SimpleImputer(fill_value='missing', strategy='constant')</pre></div></div></div><div class=\"sk-item\"><div class=\"sk-estimator sk-toggleable\"><input class=\"sk-toggleable__control sk-hidden--visually\" id=\"b6b2707e-82cc-46e0-a86a-8590dc7c0ed1\" type=\"checkbox\" ><label class=\"sk-toggleable__label\" for=\"b6b2707e-82cc-46e0-a86a-8590dc7c0ed1\">OneHotEncoder</label><div class=\"sk-toggleable__content\"><pre>OneHotEncoder(handle_unknown='ignore')</pre></div></div></div></div></div></div></div></div></div></div><div class=\"sk-item\"><div class=\"sk-estimator sk-toggleable\"><input class=\"sk-toggleable__control sk-hidden--visually\" id=\"e8c29980-0887-43ac-9e6a-6cd3b6c1b122\" type=\"checkbox\" ><label class=\"sk-toggleable__label\" for=\"e8c29980-0887-43ac-9e6a-6cd3b6c1b122\">RandomForestClassifier</label><div class=\"sk-toggleable__content\"><pre>RandomForestClassifier(n_jobs=-1)</pre></div></div></div></div></div></div></div></div></div></div></div></div>"
      ],
      "text/plain": [
       "GridSearchCV(cv=3,\n",
       "             estimator=Pipeline(steps=[('columntransformer',\n",
       "                                        ColumnTransformer(transformers=[('pipeline-1',\n",
       "                                                                         Pipeline(steps=[('simpleimputer',\n",
       "                                                                                          SimpleImputer(strategy='median')),\n",
       "                                                                                         ('minmaxscaler',\n",
       "                                                                                          MinMaxScaler()),\n",
       "                                                                                         ('kbinsdiscretizer',\n",
       "                                                                                          KBinsDiscretizer())]),\n",
       "                                                                         ['Estimated_Insects_Count',\n",
       "                                                                          'Number_Doses_Week',\n",
       "                                                                          'Number_Weeks_Used',\n",
       "                                                                          'Number_Weeks_Quit']),\n",
       "                                                                        ('pipelin...\n",
       "                                                                          'Soil_Type',\n",
       "                                                                          'Pesticide_Use_Category',\n",
       "                                                                          'Season'])])),\n",
       "                                       ('randomforestclassifier',\n",
       "                                        RandomForestClassifier(n_jobs=-1))]),\n",
       "             n_jobs=-1,\n",
       "             param_grid=[{'randomforestclassifier__max_depth': [5, 10, 15],\n",
       "                          'randomforestclassifier__max_leaf_nodes': [2, 5, 10],\n",
       "                          'randomforestclassifier__min_samples_leaf': [1, 2, 5,\n",
       "                                                                       10],\n",
       "                          'randomforestclassifier__n_estimators': [100, 150,\n",
       "                                                                   200, 300,\n",
       "                                                                   500]}])"
      ]
     },
     "execution_count": 14,
     "metadata": {},
     "output_type": "execute_result"
    }
   ],
   "source": [
    "gridsearch.fit(X_train, y_train)"
   ]
  },
  {
   "cell_type": "code",
   "execution_count": 15,
   "metadata": {},
   "outputs": [
    {
     "name": "stdout",
     "output_type": "stream",
     "text": [
      "Test : 0.840\n",
      "Train : 0.839\n"
     ]
    }
   ],
   "source": [
    "print(f'Test : {gridsearch.score(X_test, y_test):.3f}')\n",
    "print(f'Train : {gridsearch.score(X_train, y_train):.3f}')"
   ]
  },
  {
   "cell_type": "markdown",
   "metadata": {},
   "source": [
    "### Prediction of Test"
   ]
  },
  {
   "cell_type": "code",
   "execution_count": 16,
   "metadata": {},
   "outputs": [],
   "source": [
    "sub_test = test.drop(['ID'], axis = 1)"
   ]
  },
  {
   "cell_type": "code",
   "execution_count": 17,
   "metadata": {},
   "outputs": [],
   "source": [
    "sub_test_pred = gridsearch.predict(sub_test).astype(int)"
   ]
  },
  {
   "cell_type": "code",
   "execution_count": 18,
   "metadata": {},
   "outputs": [],
   "source": [
    "AllSub = pd.DataFrame({ 'ID': test['ID'],\n",
    "                       'Crop_Damage' : sub_test_pred\n",
    "    \n",
    "})\n",
    "\n",
    "AllSub.to_csv(\"AV_JH_MK_in_Agri_RF_sub2.csv\", index = False)"
   ]
  },
  {
   "cell_type": "code",
   "execution_count": 19,
   "metadata": {},
   "outputs": [],
   "source": [
    "#AV LB Score - 0.83"
   ]
  },
  {
   "cell_type": "code",
   "execution_count": null,
   "metadata": {},
   "outputs": [],
   "source": []
  }
 ],
 "metadata": {
  "kernelspec": {
   "display_name": "Python 3",
   "language": "python",
   "name": "python3"
  },
  "language_info": {
   "codemirror_mode": {
    "name": "ipython",
    "version": 3
   },
   "file_extension": ".py",
   "mimetype": "text/x-python",
   "name": "python",
   "nbconvert_exporter": "python",
   "pygments_lexer": "ipython3",
   "version": "3.7.6"
  }
 },
 "nbformat": 4,
 "nbformat_minor": 2
}
